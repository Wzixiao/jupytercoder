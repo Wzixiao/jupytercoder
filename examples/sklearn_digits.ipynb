{
 "cells": [
  {
   "cell_type": "code",
   "execution_count": 2,
   "id": "1114df89",
   "metadata": {},
   "outputs": [],
   "source": [
    "def hello_word():\n",
    "     print(\"Hello World\")\n",
    "hello_word()<jupyter_output>Hello World<jupyter_text><end_jupyter> \n",
    "hello_word()\n"
   ]
  },
  {
   "cell_type": "markdown",
   "id": "bdc6d694",
   "metadata": {},
   "source": [
    "Print to show there are 1797 images (8 by 8 images for a dimensionality of 64)\n",
    "\n",
    "Print to show there are 1797 labels (integers from 0–9)"
   ]
  },
  {
   "cell_type": "code",
   "execution_count": 5,
   "id": "c164026e",
   "metadata": {},
   "outputs": [
    {
     "name": "stdout",
     "output_type": "stream",
     "text": [
      "(1797, 8, 8)\n",
      "(1797,)\n"
     ]
    }
   ],
   "source": [
    "# print the shape of the images and labels data\n",
    "print(digits.images.shape)\n",
    "print(digits.target.shape)"
   ]
  },
  {
   "cell_type": "markdown",
   "id": "f3c71c94",
   "metadata": {},
   "source": [
    "Showing the Images and the Labels (Digits Dataset)\n",
    "\n",
    "This section is really just to show what the images and labels look like. It usually helps to visualize your data to see what you are working with.\n"
   ]
  },
  {
   "cell_type": "code",
   "execution_count": 8,
   "id": "20657b9d",
   "metadata": {},
   "outputs": [
    {
     "ename": "ModuleNotFoundError",
     "evalue": "No module named 'plt'",
     "output_type": "error",
     "traceback": [
      "\u001b[1;31m---------------------------------------------------------------------------\u001b[0m",
      "\u001b[1;31mModuleNotFoundError\u001b[0m                       Traceback (most recent call last)",
      "Cell \u001b[1;32mIn[8], line 1\u001b[0m\n\u001b[1;32m----> 1\u001b[0m \u001b[38;5;28;01mimport\u001b[39;00m \u001b[38;5;21;01mnumpy\u001b[39;00m \u001b[38;5;28;01mas\u001b[39;00m \u001b[38;5;21;01mnp\u001b[39;00m\u001b[38;5;241m,\u001b[39m \u001b[38;5;21;01mplt\u001b[39;00m\n\u001b[0;32m      3\u001b[0m \u001b[38;5;66;03m# display the first image in the dataset\u001b[39;00m\n\u001b[0;32m      4\u001b[0m \u001b[38;5;28mprint\u001b[39m(digits\u001b[38;5;241m.\u001b[39mimages[\u001b[38;5;241m0\u001b[39m])\n",
      "\u001b[1;31mModuleNotFoundError\u001b[0m: No module named 'plt'"
     ]
    }
   ],
   "source": [
    "import numpy as np, plt\n",
    "\n",
    "# display the first image in the dataset\n",
    "print(digits.images[0])\n",
    "# display the label for the first image\n",
    "print(digits.target[0])\n",
    "# display the first 100 images in the dataset\n",
    "# rescale the image data\n",
    "digits.images = digits.images.astype(np.float64)\n",
    "digits.images /= 16\n",
    "\n",
    "# plot 100 images\n",
    "fig, axes = plt.subplots(10, 10, figsize=(8, 8),\n",
    "                         subplot_kw={'xticks':[], 'yticks':[]},\n",
    "                         gridspec_kw=dict(hspace=0.1, wspace=0.1))\n",
    "for i, ax in enumerate(axes.flat):\n",
    "    ax.imshow(digits.images[i], cmap='binary', interpolation='nearest')\n",
    "    \n",
    "# display the first 100 labels\n",
    "print(digits.target[:100])"
   ]
  },
  {
   "cell_type": "code",
   "execution_count": null,
   "id": "1868c445",
   "metadata": {},
   "outputs": [],
   "source": []
  }
 ],
 "metadata": {
  "kernelspec": {
   "display_name": "Python 3 (ipykernel)",
   "language": "python",
   "name": "python3"
  },
  "language_info": {
   "codemirror_mode": {
    "name": "ipython",
    "version": 3
   },
   "file_extension": ".py",
   "mimetype": "text/x-python",
   "name": "python",
   "nbconvert_exporter": "python",
   "pygments_lexer": "ipython3",
   "version": "3.10.11"
  }
 },
 "nbformat": 4,
 "nbformat_minor": 5
}
